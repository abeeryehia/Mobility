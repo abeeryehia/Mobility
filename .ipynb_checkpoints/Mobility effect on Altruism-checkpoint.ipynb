{
 "cells": [
  {
   "cell_type": "markdown",
   "metadata": {},
   "source": [
    "This model studies the effect of mobility on the emergence of altruistic punishment and fair offers in the ultimatum game."
   ]
  },
  {
   "cell_type": "markdown",
   "metadata": {},
   "source": [
    "In this model we have $N$ number of agents connected on square lattice. Each agent will play her entire neighbourhood once as a proposer and once as a responder.  "
   ]
  },
  {
   "cell_type": "markdown",
   "metadata": {},
   "source": [
    "Agents can interact with the neighbours on their, north, south, west and east (Von Neumann neighborhood)."
   ]
  },
  {
   "cell_type": "markdown",
   "metadata": {},
   "source": [
    "After the whole population play the game a selection process will happen. In the selection process agent $i$ will choose one agent from her neighbourhood randomly $j$. if $i$'s fitness less than $j$'s fitness the selection will occusre with a probability propotional to  "
   ]
  },
  {
   "cell_type": "markdown",
   "metadata": {},
   "source": [
    "###$p_{ij} = \\frac{$\\Pi_j$-$\\Pi_i$}{2max\\{k_i,k_j\\}}$"
   ]
  },
  {
   "cell_type": "markdown",
   "metadata": {},
   "source": [
    "Noise added to new agents by adding random value uniformaly in [-0.001,0.001]"
   ]
  },
  {
   "cell_type": "markdown",
   "metadata": {},
   "source": [
    "###Initialization "
   ]
  },
  {
   "cell_type": "markdown",
   "metadata": {},
   "source": [
    "Agents offers here are randomized, in some models that was the case in others a selfish population with cluster of mutants to test how the mutant will invade the population. I think this might be valid in case of full occupation but not in case of partialy occupied lattice and randomized. what do you think?"
   ]
  },
  {
   "cell_type": "code",
   "execution_count": 43,
   "metadata": {
    "collapsed": false
   },
   "outputs": [
    {
     "data": {
      "text/plain": [
       "Initialize (generic function with 1 method)"
      ]
     },
     "execution_count": 43,
     "metadata": {},
     "output_type": "execute_result"
    }
   ],
   "source": [
    "function Initialize(N)\n",
    "    agents = zeros(N,4) #p,q,tolerance,fitness\n",
    "    agents[:,1] = round(rand(N,1),2) #p\n",
    "    agents[:,2] = round(rand(N,1),2) #q\n",
    "    agents[:,3] = agents[:,1] #tolerance for unfairness\n",
    "    agents\n",
    "end"
   ]
  },
  {
   "cell_type": "markdown",
   "metadata": {},
   "source": [
    "##Grid Initialization"
   ]
  },
  {
   "cell_type": "code",
   "execution_count": 44,
   "metadata": {
    "collapsed": false
   },
   "outputs": [
    {
     "data": {
      "text/plain": [
       "GenerateGrid (generic function with 1 method)"
      ]
     },
     "execution_count": 44,
     "metadata": {},
     "output_type": "execute_result"
    }
   ],
   "source": [
    "function GenerateGrid(grid_dim,N)\n",
    "    grid = zeros(Int, grid_dim, grid_dim)\n",
    "    #density = grid_dim^2- N\n",
    "    for i = 1:N\n",
    "        x = rand(1:grid_dim^2)\n",
    "        if grid[x] == 0\n",
    "            grid[x] = i\n",
    "        else\n",
    "            y = findnext(grid,0,x)\n",
    "            if y == 0 \n",
    "                y = findfirst(grid,0)\n",
    "                grid[y] = i\n",
    "            else\n",
    "                grid[y] = i\n",
    "            end\n",
    "            \n",
    "        end\n",
    "            \n",
    "    end\n",
    "    grid\n",
    "end"
   ]
  },
  {
   "cell_type": "markdown",
   "metadata": {},
   "source": [
    "##Look Around function, exploring the Von Neumann neighbourhood"
   ]
  },
  {
   "cell_type": "code",
   "execution_count": 45,
   "metadata": {
    "collapsed": false
   },
   "outputs": [
    {
     "data": {
      "text/plain": [
       "neighborhood (generic function with 1 method)"
      ]
     },
     "execution_count": 45,
     "metadata": {},
     "output_type": "execute_result"
    }
   ],
   "source": [
    "function neighborhood(grid,grid_dim,N)\n",
    "    list_of_neighbors = zeros(Int,N,5)\n",
    "    for i in find(grid)\n",
    "        if i%10 == 1 #North\n",
    "            list_of_neighbors[grid[i],1] = grid[grid_dim*(int((i/grid_dim)+1))]\n",
    "        else\n",
    "            list_of_neighbors[grid[i],1] = grid[i-1]\n",
    "        end\n",
    "        ####\n",
    "        if i%grid_dim == 0 #South\n",
    "            list_of_neighbors[grid[i],2] = grid[1+ grid_dim*(int((i/grid_dim)-1))]\n",
    "        else\n",
    "            list_of_neighbors[grid[i],2] = grid[i+1]\n",
    "        end\n",
    "        ####\n",
    "        if i < grid_dim || i == grid_dim # West\n",
    "            list_of_neighbors[grid[i],3] = grid[(i%grid_dim)+(grid_dim*(grid_dim-1))]\n",
    "        else\n",
    "            list_of_neighbors[grid[i],3] = grid[i-grid_dim]\n",
    "        end\n",
    "        ###\n",
    "        if i != (grid_dim^2) && i > (grid_dim-1) * grid_dim # East\n",
    "            list_of_neighbors[grid[i],4] = grid[i%grid_dim]\n",
    "        elseif i == grid_dim^2\n",
    "            list_of_neighbors[grid[i],4] = grid[grid_dim]\n",
    "        else\n",
    "            list_of_neighbors[grid[i],4] = grid[i+grid_dim]\n",
    "        end\n",
    "        list_of_neighbors[grid[i],5] = i ##Current\n",
    "    end\n",
    "    return list_of_neighbors\n",
    "end"
   ]
  },
  {
   "cell_type": "markdown",
   "metadata": {},
   "source": [
    "##Playing the Ultimatum Game "
   ]
  },
  {
   "cell_type": "code",
   "execution_count": 46,
   "metadata": {
    "collapsed": false
   },
   "outputs": [
    {
     "data": {
      "text/plain": [
       "TheUGame (generic function with 1 method)"
      ]
     },
     "execution_count": 46,
     "metadata": {},
     "output_type": "execute_result"
    }
   ],
   "source": [
    "function TheUGame(list_of_neighbors,agents,N)\n",
    "    for i =1:N\n",
    "        for j in list_of_neighbors[i,1:4]\n",
    "            if j != 0 \n",
    "                fp_offer = agents[i,1]\n",
    "                sp_offer = agents[j,1]\n",
    "                fp_accept = agents[i,2]\n",
    "                sp_accept = agents[j,2]\n",
    "                if (fp_offer > sp_accept && sp_offer < fp_accept) || (fp_offer == sp_accept && sp_offer < fp_accept)\n",
    "                    agents[i,4] += 1-fp_offer\n",
    "                    agents[j,4] += fp_offer\n",
    "                elseif (fp_offer < sp_accept && sp_offer > fp_accept) || (fp_offer < sp_accept && sp_offer == fp_accept)\n",
    "                    agents[i,4] += sp_offer\n",
    "                    agents[j,4] += 1-sp_offer\n",
    "                elseif fp_offer > sp_offer && sp_offer > fp_accept\n",
    "                    agents[i,4] += sp_offer + (1-fp_offer)\n",
    "                    agents[j,4] += (1-sp_offer) + fp_offer \n",
    "                elseif fp_offer == sp_offer && sp_offer == fp_accept\n",
    "                    agents[i,4] += sp_offer + (1-fp_offer)\n",
    "                    agents[j,4] += (1-sp_offer) + fp_offer\n",
    "                end\n",
    "            end\n",
    "        end\n",
    "    end\n",
    "    agents\n",
    "end"
   ]
  },
  {
   "cell_type": "markdown",
   "metadata": {},
   "source": [
    "##Replicator Rule"
   ]
  },
  {
   "cell_type": "code",
   "execution_count": 47,
   "metadata": {
    "collapsed": false
   },
   "outputs": [
    {
     "data": {
      "text/plain": [
       "NaturalSelectionK (generic function with 1 method)"
      ]
     },
     "execution_count": 47,
     "metadata": {},
     "output_type": "execute_result"
    }
   ],
   "source": [
    "function NaturalSelectionK(agents,list_of_neighbors,N)\n",
    "    for i = 1:N\n",
    "        neighbors = find(list_of_neighbors[i,1:4])\n",
    "        k_degree_i = length(neighbors)\n",
    "        if k_degree_i > 0\n",
    "            selected = list_of_neighbors[i,neighbors[rand(1:length(neighbors))]]\n",
    "            k_degree_selected = length(find(list_of_neighbors[selected,1:4]))\n",
    "            if agents[i,4] < agents[selected,4]\n",
    "                rep_rand = rand()\n",
    "                if rep_rand < ((agents[selected,4] - agents[i,4])/ (2* max(k_degree_selected,k_degree_i))) \n",
    "                    agents[i,1] = agents[selected,1]\n",
    "                    agents[i,2] = agents[selected,2]\n",
    "                    agents[i,3] = agents[selected,3]\n",
    "                    mut_add_rand_p = Mutation(mutatuin_prob)\n",
    "                    agents[i,1] += mut_add_rand_p\n",
    "                    mut_add_rand_q = Mutation(mutatuin_prob)\n",
    "                    agents[i,2] +=  mut_add_rand_q\n",
    "                    if agents[i,1] < 0\n",
    "                        agents[i,1] = 0\n",
    "                    end\n",
    "                    if agents[i,1] > 1\n",
    "                        agents[i,1] = 1\n",
    "                    end\n",
    "                     if agents[i,2] < 0\n",
    "                        agents[i,2] = 0\n",
    "                    end\n",
    "                    if agents[i,2] > 1\n",
    "                        agents[i,2] = 1\n",
    "                    end\n",
    "                    agents[i,3] = agents[i,1]\n",
    "                end\n",
    "            end\n",
    "        end\n",
    "    end\n",
    "    return agents\n",
    "end"
   ]
  },
  {
   "cell_type": "markdown",
   "metadata": {},
   "source": [
    "##Mutation"
   ]
  },
  {
   "cell_type": "code",
   "execution_count": 48,
   "metadata": {
    "collapsed": false
   },
   "outputs": [
    {
     "data": {
      "text/plain": [
       "Mutation (generic function with 1 method)"
      ]
     },
     "execution_count": 48,
     "metadata": {},
     "output_type": "execute_result"
    }
   ],
   "source": [
    "function Mutation(mutatuin_prob)\n",
    "    mut_rand = rand()\n",
    "    if mut_rand < mutatuin_prob\n",
    "        mut_add_rand = rand(-0.001:0.001)\n",
    "    else\n",
    "        mut_add_rand = 0\n",
    "    end\n",
    "    return mut_add_rand\n",
    "end"
   ]
  },
  {
   "cell_type": "markdown",
   "metadata": {},
   "source": [
    "##Putting the whole thing all together"
   ]
  },
  {
   "cell_type": "code",
   "execution_count": 49,
   "metadata": {
    "collapsed": false
   },
   "outputs": [
    {
     "data": {
      "text/plain": [
       "Run (generic function with 1 method)"
      ]
     },
     "execution_count": 49,
     "metadata": {},
     "output_type": "execute_result"
    }
   ],
   "source": [
    "function Run(N,grid_dim,mutatuin_prob,num_of_games,sim_runs)\n",
    "    avg_p = zeros(sim_runs)\n",
    "    avg_q = zeros(sim_runs)\n",
    "    clock_sim_runs = 1\n",
    "    while clock_sim_runs < sim_runs\n",
    "        agents = Initialize(N)\n",
    "        grid = GenerateGrid(grid_dim,N)\n",
    "        list_of_neighbors = neighborhood(grid,grid_dim,N)\n",
    "        clock_games = 1\n",
    "        while clock_games < num_of_games\n",
    "            agents = TheUGame(list_of_neighbors,agents,N)\n",
    "            agents = NaturalSelectionK(agents,list_of_neighbors,N)\n",
    "            clock_games += 1\n",
    "        end\n",
    "        avg_q[clock_sim_runs] = round(sum(agents[:,2])/N,2)\n",
    "        avg_p[clock_sim_runs] = round(sum(agents[:,1])/N,2)\n",
    "        clock_sim_runs += 1\n",
    "    end\n",
    "    std_p = round(std(avg_p),5)\n",
    "    std_q = round(std(avg_q),5)\n",
    "    avg_p_t = round(sum(avg_p)/sim_runs,2)\n",
    "    avg_q_t = round(sum(avg_q)/sim_runs,2)\n",
    "    avg_p_t ,avg_q_t,std_p,std_q\n",
    "    #agents\n",
    "end"
   ]
  },
  {
   "cell_type": "markdown",
   "metadata": {},
   "source": [
    "##Runs!"
   ]
  },
  {
   "cell_type": "code",
   "execution_count": 33,
   "metadata": {
    "collapsed": false
   },
   "outputs": [
    {
     "data": {
      "text/plain": [
       "(0.36,0.51,0.08398,0.11674)"
      ]
     },
     "execution_count": 33,
     "metadata": {},
     "output_type": "execute_result"
    }
   ],
   "source": [
    "N = 30\n",
    "grid_dim = 10\n",
    "mutatuin_prob = 0\n",
    "num_of_games = 10000\n",
    "sim_runs = 200\n",
    "avg_p,avg_q,std_p,std_q = Run(N,grid_dim,mutatuin_prob,num_of_games,sim_runs)"
   ]
  },
  {
   "cell_type": "markdown",
   "metadata": {},
   "source": [
    "##Mobility "
   ]
  },
  {
   "cell_type": "code",
   "execution_count": 50,
   "metadata": {
    "collapsed": false
   },
   "outputs": [
    {
     "data": {
      "text/plain": [
       "Mobility (generic function with 1 method)"
      ]
     },
     "execution_count": 50,
     "metadata": {},
     "output_type": "execute_result"
    }
   ],
   "source": [
    "function Mobility(agents,list_of_neighbors,N,grid)\n",
    "    for i = 1:N\n",
    "        list_of_neighbors = neighborhood(grid,grid_dim,N)\n",
    "        avg_offers = 0\n",
    "        empty_slots = find(list_of_neighbors[i,1:4].==0)\n",
    "        if length(empty_slots) > 0\n",
    "            count = 0\n",
    "            for j in list_of_neighbors[i,1:4]\n",
    "                if j != 0\n",
    "                    avg_offers += agents[j,1]\n",
    "                    count += 1\n",
    "                end\n",
    "            end\n",
    "            avg_offers = avg_offers/count\n",
    "            if avg_offers < agents[i,3]\n",
    "                move_dir = empty_slots[rand(1:length(empty_slots))]\n",
    "                curr = list_of_neighbors[i,5]\n",
    "                grid = Move(i,move_dir,curr,grid)\n",
    "            end\n",
    "        end\n",
    "    end\n",
    "    grid\n",
    "end"
   ]
  },
  {
   "cell_type": "code",
   "execution_count": 51,
   "metadata": {
    "collapsed": false
   },
   "outputs": [
    {
     "data": {
      "text/plain": [
       "Move (generic function with 1 method)"
      ]
     },
     "execution_count": 51,
     "metadata": {},
     "output_type": "execute_result"
    }
   ],
   "source": [
    "function Move(agent,move_dir,curr,grid)\n",
    "    i = curr\n",
    "    ### North\n",
    "    if move_dir == 1 && i%10 == 1\n",
    "        grid[i] = 0\n",
    "        grid[grid_dim*(int((i/grid_dim)+1))] = agent \n",
    "    elseif move_dir == 1\n",
    "        grid[i] = 0\n",
    "        grid[i-1] = agent\n",
    "    end   \n",
    "    #### South\n",
    "    if move_dir == 2 && i%grid_dim == 0\n",
    "        grid[i] = 0\n",
    "        grid[1+ grid_dim*(int((i/grid_dim)-1))] = agent \n",
    "    elseif move_dir == 2\n",
    "        grid[i] = 0\n",
    "        grid[i+1] = agent\n",
    "    end  \n",
    "    ### West\n",
    "    if move_dir == 3 && i < grid_dim || move_dir == 3 && i == grid_dim\n",
    "        grid[i] = 0\n",
    "        grid[(i%grid_dim)+(grid_dim*(grid_dim-1))] = agent \n",
    "    elseif move_dir == 3\n",
    "        grid[i] = 0\n",
    "        grid[i-grid_dim] = agent\n",
    "    end  \n",
    "    ### East\n",
    "    if move_dir == 4 && i != (grid_dim^2) && i > (grid_dim-1) * grid_dim\n",
    "        grid[i] = 0\n",
    "        grid[i%grid_dim] = agent \n",
    "    elseif move_dir == 4 && i == grid_dim^2\n",
    "        grid[i] = 0\n",
    "        grid[grid_dim] = agent\n",
    "    elseif move_dir == 4\n",
    "        grid[i] = 0\n",
    "        grid[i+grid_dim] = agent\n",
    "    end\n",
    "    grid\n",
    "end"
   ]
  },
  {
   "cell_type": "markdown",
   "metadata": {},
   "source": [
    "##Mobility Added to the whole thing"
   ]
  },
  {
   "cell_type": "code",
   "execution_count": 52,
   "metadata": {
    "collapsed": false
   },
   "outputs": [
    {
     "data": {
      "text/plain": [
       "RunMobility (generic function with 1 method)"
      ]
     },
     "execution_count": 52,
     "metadata": {},
     "output_type": "execute_result"
    }
   ],
   "source": [
    "function RunMobility(N,grid_dim,mutatuin_prob,num_of_games,sim_runs)\n",
    "    clock_sim_runs = 1\n",
    "    avg_p = zeros(sim_runs)\n",
    "    avg_q = zeros(sim_runs)\n",
    "    while clock_sim_runs < sim_runs\n",
    "        clock_games = 1\n",
    "        agents = Initialize(N)\n",
    "        grid = GenerateGrid(grid_dim,N)\n",
    "        while clock_games < num_of_games\n",
    "            list_of_neighbors = neighborhood(grid,grid_dim,N)\n",
    "            agents = TheUGame(list_of_neighbors,agents,N)\n",
    "            agents = NaturalSelectionK(agents,list_of_neighbors,N)\n",
    "            Mobility(agents,list_of_neighbors,N,grid)\n",
    "            clock_games += 1\n",
    "        end\n",
    "        avg_q[clock_sim_runs] = round(sum(agents[:,2])/N,2)\n",
    "        avg_p[clock_sim_runs] = round(sum(agents[:,1])/N,2)\n",
    "        clock_sim_runs += 1\n",
    "    end\n",
    "    std_p = round(std(avg_p),5)\n",
    "    std_q = round(std(avg_q),5)\n",
    "    avg_p_t = round(sum(avg_p)/sim_runs,2)\n",
    "    avg_q_t = round(sum(avg_q)/sim_runs,2)\n",
    "    avg_p_t ,avg_q_t, std_p, std_q\n",
    "    #agents\n",
    "end"
   ]
  },
  {
   "cell_type": "markdown",
   "metadata": {},
   "source": [
    "##Mobility Runs!"
   ]
  },
  {
   "cell_type": "code",
   "execution_count": 53,
   "metadata": {
    "collapsed": false
   },
   "outputs": [
    {
     "data": {
      "text/plain": [
       "(0.36,0.44,0.11534,0.17152)"
      ]
     },
     "execution_count": 53,
     "metadata": {},
     "output_type": "execute_result"
    }
   ],
   "source": [
    "N = 50\n",
    "grid_dim = 10\n",
    "mutatuin_prob = 0\n",
    "num_of_games = 10000\n",
    "sim_runs = 200\n",
    "avg_p_t ,avg_q_t,std_p,std_q = RunMobility(N,grid_dim,mutatuin_prob,num_of_games,sim_runs)"
   ]
  }
 ],
 "metadata": {
  "kernelspec": {
   "display_name": "Julia 0.3.6",
   "language": "julia",
   "name": "julia 0.3"
  },
  "language_info": {
   "name": "julia",
   "version": "0.3.6"
  }
 },
 "nbformat": 4,
 "nbformat_minor": 0
}
