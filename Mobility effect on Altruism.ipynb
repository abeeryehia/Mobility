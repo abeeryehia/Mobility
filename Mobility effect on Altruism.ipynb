{
 "cells": [
  {
   "cell_type": "markdown",
   "metadata": {},
   "source": [
    "This model studies the effect of mobility on the emergence of altruistic punishment and fair offers in the ultimatum game."
   ]
  },
  {
   "cell_type": "markdown",
   "metadata": {},
   "source": [
    "In this model we have $N$ number of agents connected on square lattice. Each agent will play her entire neighbourhood once as a proposer and once as a responder.  "
   ]
  },
  {
   "cell_type": "markdown",
   "metadata": {},
   "source": [
    "Agents can interact with the neighbours on their, north, south, west and east (von neumann neighborhood)."
   ]
  },
  {
   "cell_type": "markdown",
   "metadata": {},
   "source": [
    "After the whole population play the game a selection process will happen. In the selection process agent $i$ will choose one agent from her neighbourhood randomly $j$. if $i$'s fitness less than $j$'s fitness the selection will occusre with a probability propotional to  "
   ]
  },
  {
   "cell_type": "markdown",
   "metadata": {},
   "source": [
    "###$p_{ij} = \\frac{$\\Pi_j$-$\\Pi_i$}{2max\\{k_i,k_j\\}}$"
   ]
  },
  {
   "cell_type": "markdown",
   "metadata": {},
   "source": [
    "Noise added to new agents by adding random value uniformaly in [-0.001,0.001]"
   ]
  },
  {
   "cell_type": "markdown",
   "metadata": {},
   "source": [
    "###Initialization "
   ]
  },
  {
   "cell_type": "markdown",
   "metadata": {},
   "source": [
    "Here I'm assuming agents are empathic"
   ]
  },
  {
   "cell_type": "markdown",
   "metadata": {},
   "source": [
    "Agents offers here are randomized, in some models that was the case in others a selfish population with cluster of mutants to test how the mutant will invade the population. I think this might be valid in case of full occupation but not in case of partialy occupied lattice and randomized. what do you think?"
   ]
  },
  {
   "cell_type": "code",
   "execution_count": 5,
   "metadata": {
    "collapsed": false
   },
   "outputs": [
    {
     "data": {
      "text/plain": [
       "Initialize (generic function with 1 method)"
      ]
     },
     "execution_count": 5,
     "metadata": {},
     "output_type": "execute_result"
    }
   ],
   "source": [
    "function Initialize(N)\n",
    "    agents = zeros(N,2)\n",
    "    agents[:,1] = rand((N,1))\n",
    "    agents\n",
    "end"
   ]
  },
  {
   "cell_type": "code",
   "execution_count": 6,
   "metadata": {
    "collapsed": false
   },
   "outputs": [
    {
     "data": {
      "text/plain": [
       "50x2 Array{Float64,2}:\n",
       " 0.83495    0.0\n",
       " 0.0358174  0.0\n",
       " 0.866255   0.0\n",
       " 0.277716   0.0\n",
       " 0.827558   0.0\n",
       " 0.649169   0.0\n",
       " 0.773943   0.0\n",
       " 0.945953   0.0\n",
       " 0.550159   0.0\n",
       " 0.963562   0.0\n",
       " 0.109653   0.0\n",
       " 0.457548   0.0\n",
       " 0.143497   0.0\n",
       " ⋮             \n",
       " 0.705794   0.0\n",
       " 0.717514   0.0\n",
       " 0.81481    0.0\n",
       " 0.604731   0.0\n",
       " 0.174843   0.0\n",
       " 0.494339   0.0\n",
       " 0.217219   0.0\n",
       " 0.849111   0.0\n",
       " 0.131546   0.0\n",
       " 0.692722   0.0\n",
       " 0.23014    0.0\n",
       " 0.983227   0.0"
      ]
     },
     "execution_count": 6,
     "metadata": {},
     "output_type": "execute_result"
    }
   ],
   "source": [
    "N = 50\n",
    "agents = Initialize(N)"
   ]
  },
  {
   "cell_type": "markdown",
   "metadata": {},
   "source": [
    "###Grid"
   ]
  },
  {
   "cell_type": "code",
   "execution_count": 7,
   "metadata": {
    "collapsed": false
   },
   "outputs": [
    {
     "data": {
      "text/plain": [
       "GenerateGrid (generic function with 1 method)"
      ]
     },
     "execution_count": 7,
     "metadata": {},
     "output_type": "execute_result"
    }
   ],
   "source": [
    "function GenerateGrid(grid_dim,N)\n",
    "    grid = zeros(Int, grid_dim, grid_dim)\n",
    "    #density = grid_dim^2- N\n",
    "    for i = 1:N\n",
    "        x = rand(1:grid_dim^2)\n",
    "        if grid[x] == 0\n",
    "            grid[x] = i\n",
    "        else\n",
    "            y = findnext(grid,0,x)\n",
    "            if y == 0 \n",
    "                y = findfirst(grid,0)\n",
    "                grid[y] = i\n",
    "            else\n",
    "                grid[y] = i\n",
    "            end\n",
    "            \n",
    "        end\n",
    "            \n",
    "    end\n",
    "    grid\n",
    "end"
   ]
  },
  {
   "cell_type": "code",
   "execution_count": 8,
   "metadata": {
    "collapsed": false
   },
   "outputs": [
    {
     "data": {
      "text/plain": [
       "10x10 Array{Int64,2}:\n",
       "  0   8   0  0   0  11  35  20   0  10\n",
       " 48   0   0  0   0   0  19   0   0  22\n",
       "  0   0   0  0  28  43  14  39   0  45\n",
       "  2   0   0  0  32  29  17  16   0  46\n",
       "  0   5   0  0   0   4  25   0   0  47\n",
       "  7  30   0  6  49   0  42   0   0  50\n",
       " 12  41   0  0  15   3  23   0  21  44\n",
       " 13   0   0  1  27   9  38   0   0   0\n",
       " 40  26  24  0  18  31   0  34   0   0\n",
       "  0   0  36  0   0  37   0   0  33   0"
      ]
     },
     "execution_count": 8,
     "metadata": {},
     "output_type": "execute_result"
    }
   ],
   "source": [
    "grid_dim = 10\n",
    "grid = GenerateGrid(grid_dim,N)"
   ]
  },
  {
   "cell_type": "code",
   "execution_count": 9,
   "metadata": {
    "collapsed": false
   },
   "outputs": [
    {
     "data": {
      "text/plain": [
       "50"
      ]
     },
     "execution_count": 9,
     "metadata": {},
     "output_type": "execute_result"
    }
   ],
   "source": [
    "countnz(grid)"
   ]
  },
  {
   "cell_type": "markdown",
   "metadata": {},
   "source": [
    "### Von Neumann Neighborhood "
   ]
  },
  {
   "cell_type": "code",
   "execution_count": 10,
   "metadata": {
    "collapsed": false
   },
   "outputs": [
    {
     "data": {
      "text/plain": [
       "neighborhood (generic function with 1 method)"
      ]
     },
     "execution_count": 10,
     "metadata": {},
     "output_type": "execute_result"
    }
   ],
   "source": [
    "function neighborhood(grid,grid_dim,N)\n",
    "    list_of_neighbors = zeros(Int,N,5)\n",
    "    for i in find(grid)\n",
    "        if i%10 == 1 #North\n",
    "            list_of_neighbors[grid[i],1] = grid[grid_dim*(int((i/grid_dim)+1))]\n",
    "        else\n",
    "            list_of_neighbors[grid[i],1] = grid[i-1]\n",
    "        end\n",
    "        ####\n",
    "        if i%grid_dim == 0 #South\n",
    "            list_of_neighbors[grid[i],2] = grid[1+ grid_dim*(int((i/grid_dim)-1))]\n",
    "        else\n",
    "            list_of_neighbors[grid[i],2] = grid[i+1]\n",
    "        end\n",
    "        ####\n",
    "        if i < grid_dim || i == grid_dim # West\n",
    "            list_of_neighbors[grid[i],3] = grid[(i%grid_dim)+(grid_dim*(grid_dim-1))]\n",
    "        else\n",
    "            list_of_neighbors[grid[i],3] = grid[i-grid_dim]\n",
    "        end\n",
    "        ###\n",
    "        if i != (grid_dim^2) && i > (grid_dim-1) * grid_dim # East\n",
    "            list_of_neighbors[grid[i],4] = grid[i%grid_dim]\n",
    "        elseif i == grid_dim^2\n",
    "            list_of_neighbors[grid[i],4] = grid[grid_dim]\n",
    "        else\n",
    "            list_of_neighbors[grid[i],4] = grid[i+grid_dim]\n",
    "        end\n",
    "        list_of_neighbors[grid[i],5] = i ##Current\n",
    "    end\n",
    "    return list_of_neighbors\n",
    "end"
   ]
  },
  {
   "cell_type": "markdown",
   "metadata": {},
   "source": [
    "###The Ultimatum Game"
   ]
  },
  {
   "cell_type": "code",
   "execution_count": 11,
   "metadata": {
    "collapsed": false
   },
   "outputs": [
    {
     "data": {
      "text/plain": [
       "50x5 Array{Int64,2}:\n",
       "  0   0   0  27  38\n",
       "  0   0  46   0   4\n",
       "  0   9  15  23  57\n",
       " 29   0   0  25  55\n",
       "  0  30   0   0  15\n",
       "  0   0   0  49  36\n",
       "  0  12  50  30   6\n",
       "  0   0   0   0  11\n",
       "  3  31  27  38  58\n",
       "  0  22   0   0  91\n",
       " 37   0   0  35  51\n",
       "  7  13  44  41   7\n",
       " 12  40   0   0   8\n",
       "  ⋮                \n",
       "  0  16  14   0  73\n",
       " 13   0   0  26   9\n",
       " 30   0  12   0  17\n",
       " 25  23   0   0  66\n",
       "  0  29  28  14  53\n",
       " 50   0  21  12  97\n",
       " 22  46   0   0  93\n",
       " 45  47   0   2  94\n",
       " 46  50   0   0  95\n",
       "  0   0  22   0   2\n",
       "  0  15   6   0  46\n",
       " 47  44   0   7  96"
      ]
     },
     "execution_count": 11,
     "metadata": {},
     "output_type": "execute_result"
    }
   ],
   "source": [
    "list_of_neighbors = neighborhood(grid,grid_dim,N)"
   ]
  },
  {
   "cell_type": "code",
   "execution_count": 12,
   "metadata": {
    "collapsed": false
   },
   "outputs": [
    {
     "data": {
      "text/plain": [
       "TheUGame (generic function with 1 method)"
      ]
     },
     "execution_count": 12,
     "metadata": {},
     "output_type": "execute_result"
    }
   ],
   "source": [
    "function TheUGame(list_of_neighbors,agents,N)\n",
    "    for i =1:N\n",
    "        for j in list_of_neighbors[i,1:4]\n",
    "            if j != 0 \n",
    "                fp_offer = agents[i,1]\n",
    "                sp_offer = agents[j,1]\n",
    "                if fp_offer > sp_offer\n",
    "                    agents[i,2] += 1-fp_offer\n",
    "                    agents[j,2] += fp_offer\n",
    "                elseif fp_offer < sp_offer\n",
    "                    agents[i,2] += sp_offer\n",
    "                    agents[j,2] += 1-sp_offer\n",
    "                else\n",
    "                    agents[i,2] += 1\n",
    "                    agents[j,2] += 1\n",
    "                end\n",
    "            end\n",
    "        end\n",
    "    end\n",
    "    agents\n",
    "end"
   ]
  },
  {
   "cell_type": "code",
   "execution_count": 13,
   "metadata": {
    "collapsed": false
   },
   "outputs": [
    {
     "data": {
      "text/plain": [
       "50x2 Array{Float64,2}:\n",
       " 0.83495    0.330099 \n",
       " 0.0358174  1.69822  \n",
       " 0.866255   0.802468 \n",
       " 0.277716   2.16805  \n",
       " 0.827558   1.66422  \n",
       " 0.649169   0.701662 \n",
       " 0.773943   4.08279  \n",
       " 0.945953   0.0      \n",
       " 0.550159   4.43156  \n",
       " 0.963562   0.0728769\n",
       " 0.109653   3.8713   \n",
       " 0.457548   5.25109  \n",
       " 0.143497   2.35012  \n",
       " ⋮                   \n",
       " 0.705794   2.44275  \n",
       " 0.717514   2.09254  \n",
       " 0.81481    2.0346   \n",
       " 0.604731   2.22597  \n",
       " 0.174843   3.44826  \n",
       " 0.494339   4.82038  \n",
       " 0.217219   3.26378  \n",
       " 0.849111   0.905333 \n",
       " 0.131546   3.66468  \n",
       " 0.692722   0.614556 \n",
       " 0.23014    2.03566  \n",
       " 0.983227   0.100641 "
      ]
     },
     "execution_count": 13,
     "metadata": {},
     "output_type": "execute_result"
    }
   ],
   "source": [
    "TheUGame(list_of_neighbors,agents,N)"
   ]
  },
  {
   "cell_type": "markdown",
   "metadata": {},
   "source": [
    "###Selection"
   ]
  },
  {
   "cell_type": "markdown",
   "metadata": {},
   "source": [
    "I'm not sure about the $k$ (degree) assumption here should i consider it 4 for all since all agents have the same neighbourhood or make it equal to the number of neighbours they actualy have? i prefer the second one find it more consistent with the concept of selection. I implemented both  "
   ]
  },
  {
   "cell_type": "markdown",
   "metadata": {},
   "source": [
    "Assuming all agents degree is 4:"
   ]
  },
  {
   "cell_type": "code",
   "execution_count": 14,
   "metadata": {
    "collapsed": false
   },
   "outputs": [
    {
     "data": {
      "text/plain": [
       "NaturalSelection (generic function with 1 method)"
      ]
     },
     "execution_count": 14,
     "metadata": {},
     "output_type": "execute_result"
    }
   ],
   "source": [
    "function NaturalSelection(agents,list_of_neighbors,N)\n",
    "    for i = 1:N\n",
    "        neighbors = find(list_of_neighbors[i,1:4])\n",
    "        if length(neighbors) > 0\n",
    "            selected = list_of_neighbors[i,neighbors[rand(1:length(neighbors))]]\n",
    "            if agents[i,2] < agents[selected,2]\n",
    "                rep_rand = rand()\n",
    "                if rep_rand < ((agents[selected,2] - agents[i,2])/ (2* 4)) \n",
    "                    mut_add_rand = Mutation(mutatuin_prob)\n",
    "                    agents[i,1] += mut_add_rand\n",
    "                    if agents[i,1] < 0\n",
    "                        agents[i,1] = 0\n",
    "                    end\n",
    "                    if agents[i,1] > 1\n",
    "                        agents[i,1] = 1\n",
    "                    end\n",
    "                end\n",
    "            end\n",
    "        end\n",
    "    end\n",
    "    return agents\n",
    "end"
   ]
  },
  {
   "cell_type": "markdown",
   "metadata": {},
   "source": [
    "Assuming $k$ equal to the actual number of neighbours."
   ]
  },
  {
   "cell_type": "code",
   "execution_count": 15,
   "metadata": {
    "collapsed": false
   },
   "outputs": [
    {
     "data": {
      "text/plain": [
       "NaturalSelectionK (generic function with 1 method)"
      ]
     },
     "execution_count": 15,
     "metadata": {},
     "output_type": "execute_result"
    }
   ],
   "source": [
    "function NaturalSelectionK(agents,list_of_neighbors,N)\n",
    "    for i = 1:N\n",
    "        neighbors = find(list_of_neighbors[i,1:4])\n",
    "        k_degree_i = length(neighbors)\n",
    "        if k_degree_i > 0\n",
    "            selected = list_of_neighbors[i,neighbors[rand(1:length(neighbors))]]\n",
    "            k_degree_selected = length(find(list_of_neighbors[selected,1:4]))\n",
    "            if agents[i,2] < agents[selected,2]\n",
    "                rep_rand = rand()\n",
    "                if rep_rand < ((agents[selected,2] - agents[i,2])/ (2* 4)) \n",
    "                    mut_add_rand = Mutation(mutatuin_prob)\n",
    "                    agents[i,1] += mut_add_rand\n",
    "                    if agents[i,1] < 0\n",
    "                        agents[i,1] = 0\n",
    "                    end\n",
    "                    if agents[i,1] > 1\n",
    "                        agents[i,1] = 1\n",
    "                    end\n",
    "                end\n",
    "            end\n",
    "        end\n",
    "    end\n",
    "    return agents\n",
    "end"
   ]
  },
  {
   "cell_type": "markdown",
   "metadata": {},
   "source": [
    "###Mutation"
   ]
  },
  {
   "cell_type": "code",
   "execution_count": 16,
   "metadata": {
    "collapsed": false
   },
   "outputs": [
    {
     "data": {
      "text/plain": [
       "Mutation (generic function with 1 method)"
      ]
     },
     "execution_count": 16,
     "metadata": {},
     "output_type": "execute_result"
    }
   ],
   "source": [
    "function Mutation(mutatuin_prob)\n",
    "    mut_rand = rand()\n",
    "    if mut_rand < mutatuin_prob\n",
    "        mut_add_rand = rand(-0.001:0.001)\n",
    "    else\n",
    "        mut_add_rand = 0\n",
    "    end\n",
    "    return mut_add_rand\n",
    "end"
   ]
  },
  {
   "cell_type": "code",
   "execution_count": 17,
   "metadata": {
    "collapsed": false
   },
   "outputs": [
    {
     "data": {
      "text/plain": [
       "50x2 Array{Float64,2}:\n",
       " 0.83495    0.330099 \n",
       " 0.0358174  1.69822  \n",
       " 0.866255   0.802468 \n",
       " 0.277716   2.16805  \n",
       " 0.827558   1.66422  \n",
       " 0.649169   0.701662 \n",
       " 0.773943   4.08279  \n",
       " 0.945953   0.0      \n",
       " 0.550159   4.43156  \n",
       " 0.963562   0.0728769\n",
       " 0.109653   3.8713   \n",
       " 0.457548   5.25109  \n",
       " 0.143497   2.35012  \n",
       " ⋮                   \n",
       " 0.705794   2.44275  \n",
       " 0.717514   2.09254  \n",
       " 0.81481    2.0346   \n",
       " 0.604731   2.22597  \n",
       " 0.174843   3.44826  \n",
       " 0.494339   4.82038  \n",
       " 0.217219   3.26378  \n",
       " 0.849111   0.905333 \n",
       " 0.131546   3.66468  \n",
       " 0.692722   0.614556 \n",
       " 0.23014    2.03566  \n",
       " 0.983227   0.100641 "
      ]
     },
     "execution_count": 17,
     "metadata": {},
     "output_type": "execute_result"
    }
   ],
   "source": [
    "mutatuin_prob = 0.1\n",
    "#NaturalSelection(agents,list_of_neighbors,N)\n",
    "NaturalSelectionK(agents,list_of_neighbors,N)"
   ]
  },
  {
   "cell_type": "markdown",
   "metadata": {},
   "source": [
    "###Calculations and Analysis"
   ]
  },
  {
   "cell_type": "code",
   "execution_count": null,
   "metadata": {
    "collapsed": true
   },
   "outputs": [],
   "source": [
    "function Analysis(agents)\n",
    "    return avg_offers,num_of_altruists\n",
    "end"
   ]
  },
  {
   "cell_type": "markdown",
   "metadata": {},
   "source": [
    "###Run"
   ]
  },
  {
   "cell_type": "code",
   "execution_count": 18,
   "metadata": {
    "collapsed": false
   },
   "outputs": [
    {
     "data": {
      "text/plain": [
       "Run (generic function with 1 method)"
      ]
     },
     "execution_count": 18,
     "metadata": {},
     "output_type": "execute_result"
    }
   ],
   "source": [
    "function Run(N,grid_dim,mutatuin_prob,num_of_games,sim_runs)\n",
    "    agents = Initialize(N)\n",
    "    grid = GenerateGrid(grid_dim,N)\n",
    "    list_of_neighbors = neighborhood(grid,grid_dim,N)\n",
    "    clock_games = 1\n",
    "    clock_sim_runs = 1\n",
    "    while clock_sim_runs < sim_runs\n",
    "        while clock_games < num_of_games\n",
    "            agents = TheUGame(list_of_neighbors,agents,N)\n",
    "            agents = NaturalSelection(agents,list_of_neighbors,N)\n",
    "            clock_games += 1\n",
    "        end\n",
    "        clock_sim_runs += 1\n",
    "        #avg_offers,num_of_altruists = Analysis(agents)\n",
    "    end\n",
    "    agents,grid\n",
    "end"
   ]
  },
  {
   "cell_type": "code",
   "execution_count": 19,
   "metadata": {
    "collapsed": false
   },
   "outputs": [
    {
     "data": {
      "text/plain": [
       "(\n",
       "50x2 Array{Float64,2}:\n",
       " 0.953506    1.63377 \n",
       " 0.471991   39.5782  \n",
       " 0.641078   16.5332  \n",
       " 0.323628   12.1747  \n",
       " 0.805266   10.4856  \n",
       " 0.918064    2.9337  \n",
       " 0.658515    6.14672 \n",
       " 0.217556   12.5637  \n",
       " 0.0263228   8.98668 \n",
       " 0.0487911  24.3016  \n",
       " 0.0725418  16.4978  \n",
       " 0.864515   20.5333  \n",
       " 0.0954446  29.7794  \n",
       " ⋮                   \n",
       " 0.435737   22.01    \n",
       " 0.985121    0.239827\n",
       " 0.294968   25.3812  \n",
       " 0.805291   20.0379  \n",
       " 0.951583    0.871506\n",
       " 0.0693526  48.4396  \n",
       " 0.82308     3.18455 \n",
       " 0.404995    0.0     \n",
       " 0.744492    0.0     \n",
       " 0.951972   19.5     \n",
       " 0.583047    7.48715 \n",
       " 0.0114039  23.8021  ,\n",
       "\n",
       "10x10 Array{Int64,2}:\n",
       "  0   0  45   0  44   5  30   0  46   0\n",
       " 18   0   0   0   1   0  38  43   0  10\n",
       "  0  37   0  40  16  49   0   0   0  34\n",
       "  0  48  24   0   8   0  19   0  47   0\n",
       " 32  21  13   0  41  17  15   0   0   0\n",
       "  0   0   4   0   0  35  27   0   0   7\n",
       "  0  28   0  33   0   0  22   0  29  39\n",
       " 31   0   0   0   0   0  11   0  42   0\n",
       "  0   9  25   0  23  12  36   0   6   3\n",
       " 14   0  50   0  26   2   0  20   0   0)"
      ]
     },
     "execution_count": 19,
     "metadata": {},
     "output_type": "execute_result"
    }
   ],
   "source": [
    "N = 50\n",
    "grid_dim = 10\n",
    "mutatuin_prob = 0.1\n",
    "num_of_games = 10\n",
    "sim_runs = 2\n",
    "agents,grid = Run(N,grid_dim,mutatuin_prob,num_of_games,sim_runs)"
   ]
  },
  {
   "cell_type": "markdown",
   "metadata": {},
   "source": [
    "###Mobility"
   ]
  },
  {
   "cell_type": "code",
   "execution_count": 20,
   "metadata": {
    "collapsed": false
   },
   "outputs": [
    {
     "data": {
      "text/plain": [
       "Mobility (generic function with 1 method)"
      ]
     },
     "execution_count": 20,
     "metadata": {},
     "output_type": "execute_result"
    }
   ],
   "source": [
    "function Mobility(tolerance_value,agents,list_of_neighbors,N,grid)\n",
    "    for i = 1:N\n",
    "        list_of_neighbors = neighborhood(grid,grid_dim,N)\n",
    "        avg_offers = 0\n",
    "        empty_slots = find(list_of_neighbors[i,1:4].==0)\n",
    "        if length(empty_slots) > 0\n",
    "            for j in list_of_neighbors[i,1:4]\n",
    "                if j != 0\n",
    "                    avg_offers += agents[j,1]\n",
    "                end\n",
    "            end\n",
    "            if avg_offers < tolerance_value\n",
    "                move_dir = empty_slots[rand(1:length(empty_slots))]\n",
    "                curr = list_of_neighbors[i,5]\n",
    "                grid = Move(i,move_dir,curr,grid)\n",
    "            end\n",
    "        end\n",
    "    end\n",
    "    grid\n",
    "end"
   ]
  },
  {
   "cell_type": "code",
   "execution_count": 21,
   "metadata": {
    "collapsed": false
   },
   "outputs": [
    {
     "data": {
      "text/plain": [
       "Move (generic function with 1 method)"
      ]
     },
     "execution_count": 21,
     "metadata": {},
     "output_type": "execute_result"
    }
   ],
   "source": [
    "function Move(agent,move_dir,curr,grid)\n",
    "    i = curr\n",
    "    ### North\n",
    "    if move_dir == 1 && i%10 == 1\n",
    "        grid[i] = 0\n",
    "        grid[grid_dim*(int((i/grid_dim)+1))] = agent \n",
    "    elseif move_dir == 1\n",
    "        grid[i] = 0\n",
    "        grid[i-1] = agent\n",
    "    end   \n",
    "    #### South\n",
    "    if move_dir == 2 && i%grid_dim == 0\n",
    "        grid[i] = 0\n",
    "        grid[1+ grid_dim*(int((i/grid_dim)-1))] = agent \n",
    "    elseif move_dir == 2\n",
    "        grid[i] = 0\n",
    "        grid[i+1] = agent\n",
    "    end  \n",
    "    ### West\n",
    "    if move_dir == 3 && i < grid_dim || move_dir == 3 && i == grid_dim\n",
    "        grid[i] = 0\n",
    "        grid[(i%grid_dim)+(grid_dim*(grid_dim-1))] = agent \n",
    "    elseif move_dir == 3\n",
    "        grid[i] = 0\n",
    "        grid[i-grid_dim] = agent\n",
    "    end  \n",
    "    ### East\n",
    "    if move_dir == 4 && i != (grid_dim^2) && i > (grid_dim-1) * grid_dim\n",
    "        grid[i] = 0\n",
    "        grid[i%grid_dim] = agent \n",
    "    elseif move_dir == 4 && i == grid_dim^2\n",
    "        grid[i] = 0\n",
    "        grid[grid_dim] = agent\n",
    "    elseif move_dir == 4\n",
    "        grid[i] = 0\n",
    "        grid[i+grid_dim] = agent\n",
    "    end\n",
    "    grid\n",
    "end"
   ]
  },
  {
   "cell_type": "code",
   "execution_count": 22,
   "metadata": {
    "collapsed": false
   },
   "outputs": [
    {
     "data": {
      "text/plain": [
       "10x10 Array{Int64,2}:\n",
       "  0   0  45   0  44   5  30   0  46   0\n",
       " 18   0   0   0   1   0  38  43   0  10\n",
       "  0  37   0  40  16  49   0   0   0  34\n",
       "  0  48  24   0   8   0  19   0  47   0\n",
       " 32  21  13   0  41  17  15   0   0   0\n",
       "  0   0   4   0   0  35  27   0   0   7\n",
       "  0  28   0  33   0   0  22   0  29  39\n",
       " 31   0   0   0   0   0  11   0  42   0\n",
       "  0   9  25   0  23  12  36   0   6   3\n",
       " 14   0  50   0  26   2   0  20   0   0"
      ]
     },
     "execution_count": 22,
     "metadata": {},
     "output_type": "execute_result"
    }
   ],
   "source": [
    "grid"
   ]
  },
  {
   "cell_type": "code",
   "execution_count": 23,
   "metadata": {
    "collapsed": false
   },
   "outputs": [
    {
     "data": {
      "text/plain": [
       "10x10 Array{Int64,2}:\n",
       " 14  45   0   0  44   5  30   0   0  46\n",
       " 18   0   0   1   0   0  38  43   0  10\n",
       "  0  37   0  40  16  49   0   0  34   0\n",
       "  0  48  24   0   8  19   0   0  47   0\n",
       " 32  21  13  41   0  17  15   0   0   0\n",
       "  0   0   0   0   0  35  27   0   7   0\n",
       "  0   0   4   0   0   0   0  22  29  39\n",
       "  0  28   0  33   0   0  11   0  42  31\n",
       "  0  25   0   0  23  12  36  20   6   3\n",
       "  0   9   0  50  26   2   0   0   0   0"
      ]
     },
     "execution_count": 23,
     "metadata": {},
     "output_type": "execute_result"
    }
   ],
   "source": [
    "tolerance_value = 0.5\n",
    "Mobility(tolerance_value,agents,list_of_neighbors,N,grid)"
   ]
  },
  {
   "cell_type": "markdown",
   "metadata": {},
   "source": [
    "###Run"
   ]
  },
  {
   "cell_type": "code",
   "execution_count": 24,
   "metadata": {
    "collapsed": false
   },
   "outputs": [
    {
     "data": {
      "text/plain": [
       "RunMobility (generic function with 1 method)"
      ]
     },
     "execution_count": 24,
     "metadata": {},
     "output_type": "execute_result"
    }
   ],
   "source": [
    "function RunMobility(N,grid_dim,mutatuin_prob,num_of_games,sim_runs,tolerance_value)\n",
    "    agents = Initialize(N)\n",
    "    grid = GenerateGrid(grid_dim,N)\n",
    "    clock_games = 1\n",
    "    clock_sim_runs = 1\n",
    "    while clock_sim_runs < sim_runs\n",
    "        while clock_games < num_of_games\n",
    "            list_of_neighbors = neighborhood(grid,grid_dim,N)\n",
    "            agents = TheUGame(list_of_neighbors,agents,N)\n",
    "            agents = NaturalSelection(agents,list_of_neighbors,N)\n",
    "            Mobility(tolerance_value,agents,list_of_neighbors,N,grid)\n",
    "            clock_games += 1\n",
    "        end\n",
    "        clock_sim_runs += 1\n",
    "        #avg_offers,num_of_altruists = Analysis(agents)\n",
    "    end\n",
    "    agents\n",
    "end"
   ]
  },
  {
   "cell_type": "code",
   "execution_count": 25,
   "metadata": {
    "collapsed": false
   },
   "outputs": [
    {
     "data": {
      "text/plain": [
       "50x2 Array{Float64,2}:\n",
       " 0.62064     6.0657 \n",
       " 0.0305701  12.6362 \n",
       " 0.0226696   6.35323\n",
       " 0.800592    7.17867\n",
       " 0.775429    8.05257\n",
       " 0.870456    4.65558\n",
       " 0.352957   25.2196 \n",
       " 0.271713   49.6559 \n",
       " 0.820954    6.41764\n",
       " 0.400475   50.4942 \n",
       " 0.297662   26.0041 \n",
       " 0.0691573  19.5772 \n",
       " 0.112665   39.7894 \n",
       " ⋮                  \n",
       " 0.723104   30.5514 \n",
       " 0.187592   23.0367 \n",
       " 0.608091   20.4117 \n",
       " 0.283019   21.0162 \n",
       " 0.245813   22.8219 \n",
       " 0.0565942  21.6183 \n",
       " 0.951811    1.69879\n",
       " 0.319017   42.6549 \n",
       " 0.86411    18.2742 \n",
       " 0.234441   16.8031 \n",
       " 0.73267    13.2581 \n",
       " 0.742075    9.28529"
      ]
     },
     "execution_count": 25,
     "metadata": {},
     "output_type": "execute_result"
    }
   ],
   "source": [
    "N = 50\n",
    "grid_dim = 10\n",
    "mutatuin_prob = 0.1\n",
    "num_of_games = 10\n",
    "sim_runs = 2\n",
    "tolerance_value = 0.3\n",
    "RunMobility(N,grid_dim,mutatuin_prob,num_of_games,sim_runs,tolerance_value)"
   ]
  },
  {
   "cell_type": "code",
   "execution_count": null,
   "metadata": {
    "collapsed": true
   },
   "outputs": [],
   "source": []
  }
 ],
 "metadata": {
  "kernelspec": {
   "display_name": "Julia 0.3.6",
   "language": "julia",
   "name": "julia 0.3"
  },
  "language_info": {
   "name": "julia",
   "version": "0.3.6"
  }
 },
 "nbformat": 4,
 "nbformat_minor": 0
}
